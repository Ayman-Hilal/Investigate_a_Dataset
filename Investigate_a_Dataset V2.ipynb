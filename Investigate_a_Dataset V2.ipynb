{
 "cells": [
  {
   "cell_type": "markdown",
   "metadata": {},
   "source": [
    "# Project: Investigate a Dataset - [TMDB Movie data]\n",
    "\n",
    "## Table of Contents\n",
    "<ul>\n",
    "<li><a href=\"#intro\">Introduction</a></li>\n",
    "<li><a href=\"#wrangling\">Data Wrangling</a></li>\n",
    "<li><a href=\"#eda\">Exploratory Data Analysis</a></li>\n",
    "<li><a href=\"#conclusions\">Conclusions</a></li>\n",
    "</ul>"
   ]
  },
  {
   "cell_type": "markdown",
   "metadata": {},
   "source": [
    "<a id=intro></a>\n",
    "## Introduction\n",
    "\n",
    "### Dataset Description \n",
    "\n",
    "This data set contains information about 10,000 movies collected from The Movie Database (TMDb), including user ratings and revenue.\n",
    "\n",
    "The data contains 21 columns of information about movies released from 1960 till 2015.\n",
    "\n",
    "These columns include the following information: id, imdb_id, popularity, budget, revenue, original_title, cast, homepage, director, tagline, keywords, overview, runtime, genres, production_companies, release_date, vote_count, vote_average, release_year, budget_adj, revenue_adj\n",
    "\n",
    "\n",
    "### Question(s) for Analysis\n",
    "\n",
    "**Q1** Does the movies production values increase with time ?\n",
    "\n",
    "**Q2** What are the most profitable genres for each decade ?\n",
    "\n",
    "**Q3** Are movies with longer runtime more profitable than others ?\n",
    "\n",
    "**Q4** Does the movie's release season affect its profit ?\n",
    "\n",
    "**Q5** What are the best 3 movies for each decade ? (according to the available data)\n"
   ]
  },
  {
   "cell_type": "code",
   "execution_count": 1,
   "metadata": {},
   "outputs": [],
   "source": [
    "# import statements\n",
    "import numpy as np\n",
    "import pandas as pd\n",
    "import matplotlib.pyplot as plt\n",
    "% matplotlib inline\n"
   ]
  },
  {
   "cell_type": "code",
   "execution_count": 2,
   "metadata": {},
   "outputs": [
    {
     "name": "stdout",
     "output_type": "stream",
     "text": [
      "Requirement already satisfied: pandas==0.25.1 in /opt/conda/lib/python3.6/site-packages (0.25.1)\n",
      "Requirement already satisfied: python-dateutil>=2.6.1 in /opt/conda/lib/python3.6/site-packages (from pandas==0.25.1) (2.6.1)\n",
      "Requirement already satisfied: numpy>=1.13.3 in /opt/conda/lib/python3.6/site-packages (from pandas==0.25.1) (1.19.5)\n",
      "Requirement already satisfied: pytz>=2017.2 in /opt/conda/lib/python3.6/site-packages (from pandas==0.25.1) (2017.3)\n",
      "Requirement already satisfied: six>=1.5 in /opt/conda/lib/python3.6/site-packages (from python-dateutil>=2.6.1->pandas==0.25.1) (1.11.0)\n"
     ]
    }
   ],
   "source": [
    "#upgrade pandas to use 'explode'\n",
    "!pip install pandas==0.25.1"
   ]
  },
  {
   "cell_type": "markdown",
   "metadata": {},
   "source": [
    "<a id='wrangling'></a>\n",
    "## Data Wrangling\n",
    "\n",
    "\n",
    "### General Properties\n",
    "The following few cell blocks are used to explore the data and identify the columns to be used."
   ]
  },
  {
   "cell_type": "code",
   "execution_count": 3,
   "metadata": {},
   "outputs": [
    {
     "name": "stdout",
     "output_type": "stream",
     "text": [
      "<class 'pandas.core.frame.DataFrame'>\n",
      "RangeIndex: 10866 entries, 0 to 10865\n",
      "Data columns (total 21 columns):\n",
      "id                      10866 non-null int64\n",
      "imdb_id                 10856 non-null object\n",
      "popularity              10866 non-null float64\n",
      "budget                  10866 non-null int64\n",
      "revenue                 10866 non-null int64\n",
      "original_title          10866 non-null object\n",
      "cast                    10790 non-null object\n",
      "homepage                2936 non-null object\n",
      "director                10822 non-null object\n",
      "tagline                 8042 non-null object\n",
      "keywords                9373 non-null object\n",
      "overview                10862 non-null object\n",
      "runtime                 10866 non-null int64\n",
      "genres                  10843 non-null object\n",
      "production_companies    9836 non-null object\n",
      "release_date            10866 non-null object\n",
      "vote_count              10866 non-null int64\n",
      "vote_average            10866 non-null float64\n",
      "release_year            10866 non-null int64\n",
      "budget_adj              10866 non-null float64\n",
      "revenue_adj             10866 non-null float64\n",
      "dtypes: float64(4), int64(6), object(11)\n",
      "memory usage: 1.7+ MB\n"
     ]
    }
   ],
   "source": [
    "# Load your data and print out a few lines.\n",
    "df = pd.read_csv('Database_TMDb_movie_data/tmdb-movies.csv')\n",
    "df.info()"
   ]
  },
  {
   "cell_type": "code",
   "execution_count": 4,
   "metadata": {},
   "outputs": [
    {
     "data": {
      "text/plain": [
       "(1960, 2015)"
      ]
     },
     "execution_count": 4,
     "metadata": {},
     "output_type": "execute_result"
    }
   ],
   "source": [
    "df['release_year'].min(),df['release_year'].max()"
   ]
  },
  {
   "cell_type": "code",
   "execution_count": 5,
   "metadata": {},
   "outputs": [
    {
     "data": {
      "text/plain": [
       "(array(['Action|Adventure|Science Fiction|Thriller',\n",
       "        'Adventure|Science Fiction|Thriller',\n",
       "        'Action|Adventure|Science Fiction|Fantasy', ...,\n",
       "        'Adventure|Drama|Action|Family|Foreign',\n",
       "        'Comedy|Family|Mystery|Romance',\n",
       "        'Mystery|Science Fiction|Thriller|Drama'], dtype=object), 2039)"
      ]
     },
     "execution_count": 5,
     "metadata": {},
     "output_type": "execute_result"
    }
   ],
   "source": [
    "df['genres'].unique(),df['genres'].nunique()"
   ]
  },
  {
   "cell_type": "code",
   "execution_count": 6,
   "metadata": {},
   "outputs": [
    {
     "data": {
      "text/plain": [
       "(0.6464409519602429, 6.500000000000001e-05, 32.985763, 0.0, 0.0)"
      ]
     },
     "execution_count": 6,
     "metadata": {},
     "output_type": "execute_result"
    }
   ],
   "source": [
    "df['popularity'].mean(),df['popularity'].min(),df['popularity'].max(),df['budget_adj'].min(),df['revenue_adj'].min()"
   ]
  },
  {
   "cell_type": "markdown",
   "metadata": {},
   "source": [
    "The popularity index varies by day, so propably it won't be a good indication to be used. (as per https://developers.themoviedb.org/3/getting-started/popularity)\n",
    "\n",
    "We'll use the movie's profit as a measure for quality.\n",
    "\n",
    "Also, the 'adjusted for inflation' values will be used throughout for consistency in comparison."
   ]
  },
  {
   "cell_type": "markdown",
   "metadata": {},
   "source": [
    "\n",
    "### Data Cleaning\n",
    "\n",
    "**1-** Drop any unnecessary and incomplete columns.\n",
    "\n",
    "we'll remove the zero-values from the budget and revenue columns since most of the analysis will be based on them."
   ]
  },
  {
   "cell_type": "code",
   "execution_count": 7,
   "metadata": {},
   "outputs": [],
   "source": [
    "#tips from\n",
    "#https://stackoverflow.com/questions/45416684/python-pandas-replace-multiple-columns-zero-to-nan\n",
    "#https://stackoverflow.com/questions/13851535/how-to-delete-rows-from-a-pandas-dataframe-based-on-a-conditional-expression\n",
    "\n",
    "df.drop(df[(df['budget_adj']==0)|(df['revenue_adj']==0)].index,inplace=True)"
   ]
  },
  {
   "cell_type": "markdown",
   "metadata": {},
   "source": [
    "Add the profit column."
   ]
  },
  {
   "cell_type": "code",
   "execution_count": 8,
   "metadata": {},
   "outputs": [],
   "source": [
    "#get the numbers in millions\n",
    "df['revenue_adj'] = df['revenue_adj']/1000000\n",
    "df['budget_adj'] = df['budget_adj']/1000000\n",
    "df['profit'] = df['revenue_adj'] - df['budget_adj']"
   ]
  },
  {
   "cell_type": "markdown",
   "metadata": {},
   "source": [
    "Drop columns that will not be used."
   ]
  },
  {
   "cell_type": "code",
   "execution_count": 9,
   "metadata": {
    "scrolled": true
   },
   "outputs": [
    {
     "name": "stdout",
     "output_type": "stream",
     "text": [
      "<class 'pandas.core.frame.DataFrame'>\n",
      "Int64Index: 3855 entries, 0 to 10848\n",
      "Data columns (total 8 columns):\n",
      "original_title    3855 non-null object\n",
      "runtime           3855 non-null int64\n",
      "genres            3855 non-null object\n",
      "release_date      3855 non-null object\n",
      "release_year      3855 non-null int64\n",
      "budget_adj        3855 non-null float64\n",
      "revenue_adj       3855 non-null float64\n",
      "profit            3855 non-null float64\n",
      "dtypes: float64(3), int64(2), object(3)\n",
      "memory usage: 271.1+ KB\n"
     ]
    }
   ],
   "source": [
    "df.drop(['id', 'imdb_id', 'budget', 'popularity' , 'revenue',  'cast', 'homepage', 'director', 'tagline', 'keywords', 'overview', 'production_companies', 'vote_count', 'vote_average'], axis=1,inplace=True)\n",
    "df.dropna(inplace=True)\n",
    "df.info()"
   ]
  },
  {
   "cell_type": "markdown",
   "metadata": {},
   "source": [
    "**2-** Convert release_date to datetime, then add decade and season columns"
   ]
  },
  {
   "cell_type": "markdown",
   "metadata": {},
   "source": [
    "Add full release year to the release_date column to bypass Python's year issue for dates before 1969\n",
    "https://docs.python.org/2/library/time.html"
   ]
  },
  {
   "cell_type": "code",
   "execution_count": 10,
   "metadata": {},
   "outputs": [],
   "source": [
    "df['release_date'] = df['release_date'].str[:-2] + df['release_year'].astype(str)"
   ]
  },
  {
   "cell_type": "code",
   "execution_count": 11,
   "metadata": {},
   "outputs": [
    {
     "data": {
      "text/html": [
       "<div>\n",
       "<style scoped>\n",
       "    .dataframe tbody tr th:only-of-type {\n",
       "        vertical-align: middle;\n",
       "    }\n",
       "\n",
       "    .dataframe tbody tr th {\n",
       "        vertical-align: top;\n",
       "    }\n",
       "\n",
       "    .dataframe thead th {\n",
       "        text-align: right;\n",
       "    }\n",
       "</style>\n",
       "<table border=\"1\" class=\"dataframe\">\n",
       "  <thead>\n",
       "    <tr style=\"text-align: right;\">\n",
       "      <th></th>\n",
       "      <th>release_date</th>\n",
       "      <th>decade</th>\n",
       "      <th>season</th>\n",
       "    </tr>\n",
       "  </thead>\n",
       "  <tbody>\n",
       "    <tr>\n",
       "      <td>10822</td>\n",
       "      <td>1966-06-21</td>\n",
       "      <td>1960</td>\n",
       "      <td>summer</td>\n",
       "    </tr>\n",
       "    <tr>\n",
       "      <td>10828</td>\n",
       "      <td>1966-07-13</td>\n",
       "      <td>1960</td>\n",
       "      <td>summer</td>\n",
       "    </tr>\n",
       "    <tr>\n",
       "      <td>10829</td>\n",
       "      <td>1966-12-17</td>\n",
       "      <td>1960</td>\n",
       "      <td>autumn</td>\n",
       "    </tr>\n",
       "    <tr>\n",
       "      <td>10835</td>\n",
       "      <td>1966-12-20</td>\n",
       "      <td>1960</td>\n",
       "      <td>autumn</td>\n",
       "    </tr>\n",
       "    <tr>\n",
       "      <td>10848</td>\n",
       "      <td>1966-08-24</td>\n",
       "      <td>1960</td>\n",
       "      <td>summer</td>\n",
       "    </tr>\n",
       "  </tbody>\n",
       "</table>\n",
       "</div>"
      ],
      "text/plain": [
       "      release_date  decade  season\n",
       "10822   1966-06-21    1960  summer\n",
       "10828   1966-07-13    1960  summer\n",
       "10829   1966-12-17    1960  autumn\n",
       "10835   1966-12-20    1960  autumn\n",
       "10848   1966-08-24    1960  summer"
      ]
     },
     "execution_count": 11,
     "metadata": {},
     "output_type": "execute_result"
    }
   ],
   "source": [
    "#tips from:\n",
    "#https://stackoverflow.com/questions/17764619/pandas-dataframe-group-year-index-by-decade\n",
    "#https://stackoverflow.com/questions/60285557/extract-seasons-from-datetime-pandas\n",
    "\n",
    "df['release_date'] = pd.to_datetime(df['release_date'],format=\"%m/%d/%Y\")\n",
    "df['decade'] = df['release_year'].apply(lambda x: x//10*10)\n",
    "df['date_offset'] = (df.release_date.dt.month*100 + df.release_date.dt.day - 320)%1300\n",
    "df['season'] = pd.cut(df['date_offset'], [0, 300, 602, 900, 1300], labels=['spring', 'summer', 'autumn', 'winter'],include_lowest = True)\n",
    "df.drop('date_offset',axis=1,inplace=True)\n",
    "\n",
    "df[['release_date','decade','season']].tail() #just for checking"
   ]
  },
  {
   "cell_type": "code",
   "execution_count": 12,
   "metadata": {},
   "outputs": [
    {
     "data": {
      "text/plain": [
       "2000    1460\n",
       "2010    1041\n",
       "1990     755\n",
       "1980     395\n",
       "1970     133\n",
       "1960      71\n",
       "Name: decade, dtype: int64"
      ]
     },
     "execution_count": 12,
     "metadata": {},
     "output_type": "execute_result"
    }
   ],
   "source": [
    "df['decade'].value_counts()"
   ]
  },
  {
   "cell_type": "markdown",
   "metadata": {},
   "source": [
    "It is clear that the database contains much more data for the recent years compared to the earlier ones."
   ]
  },
  {
   "cell_type": "markdown",
   "metadata": {},
   "source": [
    "**3-** Adjust the genres column for consistency"
   ]
  },
  {
   "cell_type": "markdown",
   "metadata": {},
   "source": [
    "In order to account for the different genres for each movie, we'll use a dataframe specific for genres analysis where each movie's many genres are 'exploded' into multiple rows."
   ]
  },
  {
   "cell_type": "code",
   "execution_count": 13,
   "metadata": {},
   "outputs": [
    {
     "data": {
      "text/html": [
       "<div>\n",
       "<style scoped>\n",
       "    .dataframe tbody tr th:only-of-type {\n",
       "        vertical-align: middle;\n",
       "    }\n",
       "\n",
       "    .dataframe tbody tr th {\n",
       "        vertical-align: top;\n",
       "    }\n",
       "\n",
       "    .dataframe thead th {\n",
       "        text-align: right;\n",
       "    }\n",
       "</style>\n",
       "<table border=\"1\" class=\"dataframe\">\n",
       "  <thead>\n",
       "    <tr style=\"text-align: right;\">\n",
       "      <th></th>\n",
       "      <th>original_title</th>\n",
       "      <th>runtime</th>\n",
       "      <th>genres</th>\n",
       "      <th>release_date</th>\n",
       "      <th>release_year</th>\n",
       "      <th>budget_adj</th>\n",
       "      <th>revenue_adj</th>\n",
       "      <th>profit</th>\n",
       "      <th>decade</th>\n",
       "      <th>season</th>\n",
       "    </tr>\n",
       "  </thead>\n",
       "  <tbody>\n",
       "    <tr>\n",
       "      <td>0</td>\n",
       "      <td>Jurassic World</td>\n",
       "      <td>124</td>\n",
       "      <td>Action</td>\n",
       "      <td>2015-06-09</td>\n",
       "      <td>2015</td>\n",
       "      <td>137.999939</td>\n",
       "      <td>1392.445893</td>\n",
       "      <td>1254.445953</td>\n",
       "      <td>2010</td>\n",
       "      <td>spring</td>\n",
       "    </tr>\n",
       "    <tr>\n",
       "      <td>0</td>\n",
       "      <td>Jurassic World</td>\n",
       "      <td>124</td>\n",
       "      <td>Adventure</td>\n",
       "      <td>2015-06-09</td>\n",
       "      <td>2015</td>\n",
       "      <td>137.999939</td>\n",
       "      <td>1392.445893</td>\n",
       "      <td>1254.445953</td>\n",
       "      <td>2010</td>\n",
       "      <td>spring</td>\n",
       "    </tr>\n",
       "    <tr>\n",
       "      <td>0</td>\n",
       "      <td>Jurassic World</td>\n",
       "      <td>124</td>\n",
       "      <td>Science Fiction</td>\n",
       "      <td>2015-06-09</td>\n",
       "      <td>2015</td>\n",
       "      <td>137.999939</td>\n",
       "      <td>1392.445893</td>\n",
       "      <td>1254.445953</td>\n",
       "      <td>2010</td>\n",
       "      <td>spring</td>\n",
       "    </tr>\n",
       "    <tr>\n",
       "      <td>0</td>\n",
       "      <td>Jurassic World</td>\n",
       "      <td>124</td>\n",
       "      <td>Thriller</td>\n",
       "      <td>2015-06-09</td>\n",
       "      <td>2015</td>\n",
       "      <td>137.999939</td>\n",
       "      <td>1392.445893</td>\n",
       "      <td>1254.445953</td>\n",
       "      <td>2010</td>\n",
       "      <td>spring</td>\n",
       "    </tr>\n",
       "    <tr>\n",
       "      <td>1</td>\n",
       "      <td>Mad Max: Fury Road</td>\n",
       "      <td>120</td>\n",
       "      <td>Action</td>\n",
       "      <td>2015-05-13</td>\n",
       "      <td>2015</td>\n",
       "      <td>137.999939</td>\n",
       "      <td>348.161292</td>\n",
       "      <td>210.161353</td>\n",
       "      <td>2010</td>\n",
       "      <td>spring</td>\n",
       "    </tr>\n",
       "    <tr>\n",
       "      <td>1</td>\n",
       "      <td>Mad Max: Fury Road</td>\n",
       "      <td>120</td>\n",
       "      <td>Adventure</td>\n",
       "      <td>2015-05-13</td>\n",
       "      <td>2015</td>\n",
       "      <td>137.999939</td>\n",
       "      <td>348.161292</td>\n",
       "      <td>210.161353</td>\n",
       "      <td>2010</td>\n",
       "      <td>spring</td>\n",
       "    </tr>\n",
       "    <tr>\n",
       "      <td>1</td>\n",
       "      <td>Mad Max: Fury Road</td>\n",
       "      <td>120</td>\n",
       "      <td>Science Fiction</td>\n",
       "      <td>2015-05-13</td>\n",
       "      <td>2015</td>\n",
       "      <td>137.999939</td>\n",
       "      <td>348.161292</td>\n",
       "      <td>210.161353</td>\n",
       "      <td>2010</td>\n",
       "      <td>spring</td>\n",
       "    </tr>\n",
       "    <tr>\n",
       "      <td>1</td>\n",
       "      <td>Mad Max: Fury Road</td>\n",
       "      <td>120</td>\n",
       "      <td>Thriller</td>\n",
       "      <td>2015-05-13</td>\n",
       "      <td>2015</td>\n",
       "      <td>137.999939</td>\n",
       "      <td>348.161292</td>\n",
       "      <td>210.161353</td>\n",
       "      <td>2010</td>\n",
       "      <td>spring</td>\n",
       "    </tr>\n",
       "  </tbody>\n",
       "</table>\n",
       "</div>"
      ],
      "text/plain": [
       "       original_title  runtime           genres release_date  release_year  \\\n",
       "0      Jurassic World      124           Action   2015-06-09          2015   \n",
       "0      Jurassic World      124        Adventure   2015-06-09          2015   \n",
       "0      Jurassic World      124  Science Fiction   2015-06-09          2015   \n",
       "0      Jurassic World      124         Thriller   2015-06-09          2015   \n",
       "1  Mad Max: Fury Road      120           Action   2015-05-13          2015   \n",
       "1  Mad Max: Fury Road      120        Adventure   2015-05-13          2015   \n",
       "1  Mad Max: Fury Road      120  Science Fiction   2015-05-13          2015   \n",
       "1  Mad Max: Fury Road      120         Thriller   2015-05-13          2015   \n",
       "\n",
       "   budget_adj  revenue_adj       profit  decade  season  \n",
       "0  137.999939  1392.445893  1254.445953    2010  spring  \n",
       "0  137.999939  1392.445893  1254.445953    2010  spring  \n",
       "0  137.999939  1392.445893  1254.445953    2010  spring  \n",
       "0  137.999939  1392.445893  1254.445953    2010  spring  \n",
       "1  137.999939   348.161292   210.161353    2010  spring  \n",
       "1  137.999939   348.161292   210.161353    2010  spring  \n",
       "1  137.999939   348.161292   210.161353    2010  spring  \n",
       "1  137.999939   348.161292   210.161353    2010  spring  "
      ]
     },
     "execution_count": 13,
     "metadata": {},
     "output_type": "execute_result"
    }
   ],
   "source": [
    "#tip from the review as per https://www.geeksforgeeks.org/convert-list-like-column-elements-to-separate-rows-in-pandas/\n",
    "genres_df = df.assign(genres=df['genres'].str.split('|')).explode('genres')\n",
    "genres_df.head(8)"
   ]
  },
  {
   "cell_type": "markdown",
   "metadata": {},
   "source": [
    "<a id='eda'></a>\n",
    "## Exploratory Data Analysis\n"
   ]
  },
  {
   "cell_type": "markdown",
   "metadata": {},
   "source": [
    "Since a lot of ploting will be involved, we'll define a function for labeling the axes and the title."
   ]
  },
  {
   "cell_type": "code",
   "execution_count": 14,
   "metadata": {},
   "outputs": [],
   "source": [
    "def plt_txt(xplt, yplt, gtitle):\n",
    "    '''a simple function to be called after ploting to pass the axes and title labels'''\n",
    "    plt.xlabel(xplt,weight = \"bold\")\n",
    "    plt.ylabel(yplt,weight = \"bold\")\n",
    "    plt.title(gtitle,weight = \"bold\")"
   ]
  },
  {
   "cell_type": "markdown",
   "metadata": {},
   "source": [
    "### Q1 - Does the movies production values increase with time ?"
   ]
  },
  {
   "cell_type": "code",
   "execution_count": 15,
   "metadata": {},
   "outputs": [
    {
     "data": {
      "image/png": "[encoded data removed]",
      "text/plain": [
       "<matplotlib.figure.Figure at 0x7f115b4ebb00>"
      ]
     },
     "metadata": {
      "needs_background": "light"
     },
     "output_type": "display_data"
    }
   ],
   "source": [
    "df.plot.scatter(x='release_year',y='budget_adj');\n",
    "#plt.ylabel('Budget in millions USD');\n",
    "plt_txt('Release year','Budget in millions USD','Movies budget spent over time')"
   ]
  },
  {
   "cell_type": "markdown",
   "metadata": {},
   "source": [
    "The above figure indicates that the Movie production business has been growing steadily with time.\n",
    "\n",
    "let's try to plot the mean of each year to better get the feel for the numbers."
   ]
  },
  {
   "cell_type": "code",
   "execution_count": 16,
   "metadata": {},
   "outputs": [
    {
     "data": {
      "image/png": "[encoded data removed]",
      "text/plain": [
       "<matplotlib.figure.Figure at 0x7f115b4b9da0>"
      ]
     },
     "metadata": {
      "needs_background": "light"
     },
     "output_type": "display_data"
    }
   ],
   "source": [
    "df.groupby('release_year').mean()['budget_adj'].plot.line();\n",
    "plt_txt('release year'.title(),'average Budget in millions USD','average budget spent over time')"
   ]
  },
  {
   "cell_type": "markdown",
   "metadata": {},
   "source": [
    "Due to the shortage in the availabe data for older years, we cannot guarantee for sure that the movie production industry is growing with time. We'll need more data for better observation."
   ]
  },
  {
   "cell_type": "markdown",
   "metadata": {},
   "source": [
    "### Q2 - What are the most profitable genres for each decade ?"
   ]
  },
  {
   "cell_type": "markdown",
   "metadata": {},
   "source": [
    "First, we'll show the order of the most popular genres for all the dataset."
   ]
  },
  {
   "cell_type": "code",
   "execution_count": 17,
   "metadata": {
    "scrolled": true
   },
   "outputs": [
    {
     "data": {
      "image/png": "[encoded data removed]",
      "text/plain": [
       "<matplotlib.figure.Figure at 0x7f115b517240>"
      ]
     },
     "metadata": {
      "needs_background": "light"
     },
     "output_type": "display_data"
    }
   ],
   "source": [
    "#tips from https://stackoverflow.com/questions/54250254/pandas-groupby-plotting-each-group\n",
    "#https://stackoverflow.com/questions/20069009/pandas-get-topmost-n-records-within-each-group\n",
    "\n",
    "genres_df.groupby('genres')['profit'].mean().nlargest(10).sort_values().plot.barh(figsize=(6, 3));\n",
    "plt_txt('average Profit in millions USD','Genres','Top 10 most profitable genres overall by mean values');"
   ]
  },
  {
   "cell_type": "markdown",
   "metadata": {},
   "source": [
    "Next, we'll explore the most profitable genres by decade by using the excellent **.unstack** method."
   ]
  },
  {
   "cell_type": "code",
   "execution_count": 18,
   "metadata": {},
   "outputs": [
    {
     "data": {
      "image/png": "[encoded data removed]",
      "text/plain": [
       "<matplotlib.figure.Figure at 0x7f115b52b0b8>"
      ]
     },
     "metadata": {
      "needs_background": "light"
     },
     "output_type": "display_data"
    }
   ],
   "source": [
    "#another method can be used by looping: https://engineeringfordatascience.com/posts/matplotlib_subplots/\n",
    "\n",
    "genres_df.groupby(['decade','genres'])['profit'].mean().unstack('decade').plot.barh(\n",
    "    subplots=True,layout=(3,2),figsize=(12,15),sharex=False,legend=False,rot=0,title='Genres average profit by decade in millions USD');\n",
    "plt.tight_layout(rect=[0, 0.03, 1, 0.97]) #[left, bottom, right, top] in normalized (0, 1) figure coordinates"
   ]
  },
  {
   "cell_type": "code",
   "execution_count": 19,
   "metadata": {},
   "outputs": [
    {
     "data": {
      "text/html": [
       "<div>\n",
       "<style scoped>\n",
       "    .dataframe tbody tr th:only-of-type {\n",
       "        vertical-align: middle;\n",
       "    }\n",
       "\n",
       "    .dataframe tbody tr th {\n",
       "        vertical-align: top;\n",
       "    }\n",
       "\n",
       "    .dataframe thead th {\n",
       "        text-align: right;\n",
       "    }\n",
       "</style>\n",
       "<table border=\"1\" class=\"dataframe\">\n",
       "  <thead>\n",
       "    <tr style=\"text-align: right;\">\n",
       "      <th></th>\n",
       "      <th>original_title</th>\n",
       "      <th>runtime</th>\n",
       "      <th>genres</th>\n",
       "      <th>release_date</th>\n",
       "      <th>release_year</th>\n",
       "      <th>budget_adj</th>\n",
       "      <th>revenue_adj</th>\n",
       "      <th>profit</th>\n",
       "      <th>decade</th>\n",
       "      <th>season</th>\n",
       "    </tr>\n",
       "  </thead>\n",
       "  <tbody>\n",
       "    <tr>\n",
       "      <td>10110</td>\n",
       "      <td>One Hundred and One Dalmatians</td>\n",
       "      <td>79</td>\n",
       "      <td>Animation</td>\n",
       "      <td>1961-01-25</td>\n",
       "      <td>1961</td>\n",
       "      <td>29.179445</td>\n",
       "      <td>1574.814740</td>\n",
       "      <td>1545.635295</td>\n",
       "      <td>1960</td>\n",
       "      <td>winter</td>\n",
       "    </tr>\n",
       "    <tr>\n",
       "      <td>10398</td>\n",
       "      <td>The Jungle Book</td>\n",
       "      <td>78</td>\n",
       "      <td>Animation</td>\n",
       "      <td>1967-10-18</td>\n",
       "      <td>1967</td>\n",
       "      <td>26.147055</td>\n",
       "      <td>1345.551059</td>\n",
       "      <td>1319.404004</td>\n",
       "      <td>1960</td>\n",
       "      <td>autumn</td>\n",
       "    </tr>\n",
       "  </tbody>\n",
       "</table>\n",
       "</div>"
      ],
      "text/plain": [
       "                       original_title  runtime     genres release_date  \\\n",
       "10110  One Hundred and One Dalmatians       79  Animation   1961-01-25   \n",
       "10398                 The Jungle Book       78  Animation   1967-10-18   \n",
       "\n",
       "       release_year  budget_adj  revenue_adj       profit  decade  season  \n",
       "10110          1961   29.179445  1574.814740  1545.635295    1960  winter  \n",
       "10398          1967   26.147055  1345.551059  1319.404004    1960  autumn  "
      ]
     },
     "execution_count": 19,
     "metadata": {},
     "output_type": "execute_result"
    }
   ],
   "source": [
    "genres_df[(genres_df['decade']==1960) & (genres_df['genres']=='Animation')]"
   ]
  },
  {
   "cell_type": "markdown",
   "metadata": {},
   "source": [
    "**We can see from the above figures that one misleading entry can cause a misinterpretation of the dataset.** (As shown in 1960 data)\n",
    "\n",
    "Nevertheless, the 'Animation' category seems to have been very popular in the 60's (thanks to 2 movies in particular) and remains to be throughout the years."
   ]
  },
  {
   "cell_type": "markdown",
   "metadata": {},
   "source": [
    "### Q3 Are movies with longer runtime more profitable than others ?"
   ]
  },
  {
   "cell_type": "markdown",
   "metadata": {},
   "source": [
    "We'll consider (movies > 2 hrs) to be long, while (2 hrs > movies >= 1.5 hrs) to be medium ,and (1.5 hrs > movies) to be short."
   ]
  },
  {
   "cell_type": "code",
   "execution_count": 20,
   "metadata": {},
   "outputs": [],
   "source": [
    "df['m_length'] = pd.cut(df['runtime'], [0, 90, 120, 900], labels=['short', 'medium', 'long'])"
   ]
  },
  {
   "cell_type": "markdown",
   "metadata": {},
   "source": [
    "Let's check the percentages of the movies in the database by duration."
   ]
  },
  {
   "cell_type": "code",
   "execution_count": 21,
   "metadata": {},
   "outputs": [
    {
     "data": {
      "image/png": "[encoded data removed]",
      "text/plain": [
       "<matplotlib.figure.Figure at 0x7f115b688be0>"
      ]
     },
     "metadata": {},
     "output_type": "display_data"
    }
   ],
   "source": [
    "df.groupby('m_length').count()['profit'].plot.pie(startangle=0,autopct='%1.1f%%',fontsize=10,explode=(0.03, 0.03, 0.03));\n",
    "plt_txt('','','Percentage of movies by duration');"
   ]
  },
  {
   "cell_type": "markdown",
   "metadata": {},
   "source": [
    "Now, let's check the profits against duration."
   ]
  },
  {
   "cell_type": "code",
   "execution_count": 22,
   "metadata": {
    "scrolled": true
   },
   "outputs": [
    {
     "data": {
      "image/png": "[encoded data removed]",
      "text/plain": [
       "<matplotlib.figure.Figure at 0x7f115a42e320>"
      ]
     },
     "metadata": {
      "needs_background": "light"
     },
     "output_type": "display_data"
    }
   ],
   "source": [
    "df.groupby('m_length').mean()['profit'].plot.bar(rot=0,color='g');\n",
    "plt_txt('Movie duration','average Profit in millions USD','Average profit of movies by duration')"
   ]
  },
  {
   "cell_type": "markdown",
   "metadata": {},
   "source": [
    "It is evident that longer movies in general get higher profits. \n",
    "\n",
    "It is noted that the dataset contains some movies with zero runtime and others with illogical values (900 mins runtime), which will affect the accurecy of the analysis outcome and might require further investigation."
   ]
  },
  {
   "cell_type": "markdown",
   "metadata": {},
   "source": [
    "### Q4 Does the movie's release season affect its profit ?"
   ]
  },
  {
   "cell_type": "code",
   "execution_count": 23,
   "metadata": {},
   "outputs": [
    {
     "data": {
      "image/png": "[encoded data removed]",
      "text/plain": [
       "<matplotlib.figure.Figure at 0x7f115c4234e0>"
      ]
     },
     "metadata": {
      "needs_background": "light"
     },
     "output_type": "display_data"
    }
   ],
   "source": [
    "df.groupby('season').mean()['profit'].sort_values().plot.bar(rot=0);\n",
    "plt_txt('Season',\"average Profit in millions USD\",'Average profit of movies by Season');"
   ]
  },
  {
   "cell_type": "markdown",
   "metadata": {},
   "source": [
    "It appears that the release season does affect the potenial for higher profits."
   ]
  },
  {
   "cell_type": "markdown",
   "metadata": {},
   "source": [
    "### Q5 What are the best 3 movies for each decade ? (according to the available data)"
   ]
  },
  {
   "cell_type": "code",
   "execution_count": 24,
   "metadata": {},
   "outputs": [],
   "source": [
    "df2 = df.groupby('decade')['profit'].nlargest(3)"
   ]
  },
  {
   "cell_type": "code",
   "execution_count": 25,
   "metadata": {},
   "outputs": [
    {
     "name": "stdout",
     "output_type": "stream",
     "text": [
      "The best movies of the 1960s are:\n",
      "   1st:One Hundred and One Dalmatians\n",
      "   2nd:The Jungle Book\n",
      "   3rd:The Sound of Music\n",
      "****************************************\n",
      "The best movies of the 1970s are:\n",
      "   1st:Star Wars\n",
      "   2nd:The Exorcist\n",
      "   3rd:Jaws\n",
      "****************************************\n",
      "The best movies of the 1980s are:\n",
      "   1st:E.T. the Extra-Terrestrial\n",
      "   2nd:The Empire Strikes Back\n",
      "   3rd:Return of the Jedi\n",
      "****************************************\n",
      "The best movies of the 1990s are:\n",
      "   1st:Titanic\n",
      "   2nd:The Net\n",
      "   3rd:Jurassic Park\n",
      "****************************************\n",
      "The best movies of the 2000s are:\n",
      "   1st:Avatar\n",
      "   2nd:The Lord of the Rings: The Return of the King\n",
      "   3rd:Harry Potter and the Philosopher's Stone\n",
      "****************************************\n",
      "The best movies of the 2010s are:\n",
      "   1st:Star Wars: The Force Awakens\n",
      "   2nd:Jurassic World\n",
      "   3rd:The Avengers\n",
      "****************************************\n"
     ]
    }
   ],
   "source": [
    "for i in sorted(list((df['decade'].unique()))):\n",
    "    mo = []\n",
    "    l = list(df2.loc[i].index)\n",
    "    for j in l:\n",
    "        mo.append(df.loc[j]['original_title'])\n",
    "    print('The best movies of the {}s are:\\n   1st:{}\\n   2nd:{}\\n   3rd:{}'.format(str(i),mo[0],mo[1],mo[2]))\n",
    "    print('*'*40)"
   ]
  },
  {
   "cell_type": "markdown",
   "metadata": {},
   "source": [
    "<a id='conclusions'></a>\n",
    "## Conclusions\n",
    "\n",
    "We started with a dataset of more than 10,000 entries, and ended up using around 3,500 of them only. This number of entries is considered suffiecient to draw wide observations about the Movie industry, but not to take a business decesion about it.\n",
    "\n",
    "Due to the nature of the origin data, we couldn't account of any outliers. Which means that Movies that perform exceptionally well in profit values will affect the analysis outcome.\n",
    "\n",
    "The sample data used is not evenly distributed among the years, which might result in a biased outcome.\n",
    "\n",
    "Since each movie in the dataset has different number of genres, one movie will influence many genres in the analysis, while another will not.\n",
    "\n",
    "No statistical inference analysis was performed on the data to test the significance of the results.\n",
    "\n",
    "\n",
    "**Based on the above questions we can conclude the following points:**\n",
    "\n",
    ">-It seems that the movies production budget is growing with time, but due to the shortage in the availabe data for the older years, we cannot guarantee that fact for sure. We'll need more data for better observation.\n",
    "\n",
    ">-In general, the 'Adventure' and 'Animation' genres are highly popular and profitable.\n",
    "\n",
    ">-It is better to produce movies with longer runtime that have solid storytelling elements.\n",
    "\n",
    ">-It is better to release a movie in spring season for a better crowd attendance.\n",
    "\n",
    "## Submitting your Project "
   ]
  },
  {
   "cell_type": "code",
   "execution_count": 26,
   "metadata": {},
   "outputs": [
    {
     "data": {
      "text/plain": [
       "0"
      ]
     },
     "execution_count": 26,
     "metadata": {},
     "output_type": "execute_result"
    }
   ],
   "source": [
    "from subprocess import call\n",
    "call(['python', '-m', 'nbconvert', 'Investigate_a_Dataset.ipynb'])"
   ]
  }
 ],
 "metadata": {
  "kernelspec": {
   "display_name": "Python 3",
   "language": "python",
   "name": "python3"
  },
  "language_info": {
   "codemirror_mode": {
    "name": "ipython",
    "version": 3
   },
   "file_extension": ".py",
   "mimetype": "text/x-python",
   "name": "python",
   "nbconvert_exporter": "python",
   "pygments_lexer": "ipython3",
   "version": "3.6.3"
  }
 },
 "nbformat": 4,
 "nbformat_minor": 2
}
